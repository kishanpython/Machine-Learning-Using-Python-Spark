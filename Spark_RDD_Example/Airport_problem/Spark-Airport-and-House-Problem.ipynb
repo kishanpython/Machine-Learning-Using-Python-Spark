{
 "cells": [
  {
   "cell_type": "markdown",
   "metadata": {},
   "source": [
    "# Task :-> Spark-RDD and Airport questions and House avg. price\n",
    "## Dataset :-> airport.txt, RealEstate.csv"
   ]
  },
  {
   "cell_type": "code",
   "execution_count": 1,
   "metadata": {},
   "outputs": [
    {
     "name": "stdout",
     "output_type": "stream",
     "text": [
      "Waiting for a Spark session to start...\n",
      "Spark Initialization Done! ApplicationId = app-20200303055127-0000\n",
      "KERNEL_ID = b09b307a-fb41-48dc-bdff-9798c5215642\n"
     ]
    },
    {
     "data": {
      "text/plain": [
       "'2.3.3'"
      ]
     },
     "execution_count": 1,
     "metadata": {},
     "output_type": "execute_result"
    }
   ],
   "source": [
    "sc.version"
   ]
  },
  {
   "cell_type": "code",
   "execution_count": 2,
   "metadata": {},
   "outputs": [],
   "source": [
    "# The following code contains the credentials for a file in your IBM Cloud Object Storage.\n",
    "import ibmos2spark\n",
    "# @hidden_cell\n",
    "credentials = {\n",
    "    'endpoint': 'XXXX',\n",
    "    'service_id': 'XXXXXX',\n",
    "    'iam_service_endpoint': 'XXXX',\n",
    "    'api_key': 'XXXX'\n",
    "}\n",
    "\n",
    "configuration_name = 'os_0a7faf2d576d4d0e985305b42aae4ce7_configs'\n",
    "cos = ibmos2spark.CloudObjectStorage(sc, credentials, configuration_name, 'bluemix_cos')\n"
   ]
  },
  {
   "cell_type": "code",
   "execution_count": 3,
   "metadata": {},
   "outputs": [],
   "source": [
    "\n",
    "# @hidden_cell\n",
    "# The following code contains the credentials for a file in your IBM Cloud Object Storage.\n",
    "# You might want to remove those credentials before you share your notebook.\n",
    "credentials_1 = {\n",
    "    'IAM_SERVICE_ID': 'XXXX',\n",
    "    'IBM_API_KEY_ID': 'XXXX',\n",
    "    'ENDPOINT': 'XXXX',\n",
    "    'IBM_AUTH_ENDPOINT': 'XXXXX',\n",
    "    'BUCKET': 'XXXX',\n",
    "    'FILE': 'airports.text'\n",
    "}\n",
    "\n",
    "airports_data = cos.url('airports.text', 'sparktry-donotdelete-pr-adbnjs9sf1yuav')"
   ]
  },
  {
   "cell_type": "code",
   "execution_count": 4,
   "metadata": {},
   "outputs": [
    {
     "name": "stdout",
     "output_type": "stream",
     "text": [
      "product is :120\n"
     ]
    }
   ],
   "source": [
    "# Reduce method\n",
    "inputIntegers = [1, 2, 3, 4, 5]\n",
    "integerRdd = sc.parallelize(inputIntegers)\n",
    "   \n",
    "product = integerRdd.reduce(lambda x, y: x * y)\n",
    "print(\"product is :{}\".format(product))"
   ]
  },
  {
   "cell_type": "markdown",
   "metadata": {},
   "source": [
    "# Problem Statement\n",
    "Create a Spark program to read the airport data from in/airports.text,generate a pair RDD with airport name being the key and country name being the value.Then remove all the airports which are located in United States and then convert the country name to uppercase."
   ]
  },
  {
   "cell_type": "code",
   "execution_count": 5,
   "metadata": {},
   "outputs": [],
   "source": [
    "import re\n",
    "class Utils():\n",
    "    COMMA_DELIMITER = re.compile(''',(?=(?:[^\"]*\"[^\"]*\")*[^\"]*$)''')"
   ]
  },
  {
   "cell_type": "code",
   "execution_count": 6,
   "metadata": {},
   "outputs": [],
   "source": [
    "airportsRDD = sc.textFile(airports_data)"
   ]
  },
  {
   "cell_type": "code",
   "execution_count": 7,
   "metadata": {},
   "outputs": [],
   "source": [
    "airportPairRDD = airportsRDD.map(lambda line: (Utils.COMMA_DELIMITER.split(line)[1],Utils.COMMA_DELIMITER.split(line)[3]))"
   ]
  },
  {
   "cell_type": "code",
   "execution_count": 8,
   "metadata": {},
   "outputs": [],
   "source": [
    "airportsNotInUSA = airportPairRDD.filter(lambda keyValue: keyValue[1] != \"\\\"United States\\\"\")"
   ]
  },
  {
   "cell_type": "code",
   "execution_count": 11,
   "metadata": {},
   "outputs": [
    {
     "data": {
      "text/plain": [
       "[('\"Goroka\"', '\"Papua New Guinea\"'),\n",
       " ('\"Madang\"', '\"Papua New Guinea\"'),\n",
       " ('\"Mount Hagen\"', '\"Papua New Guinea\"'),\n",
       " ('\"Nadzab\"', '\"Papua New Guinea\"'),\n",
       " ('\"Port Moresby Jacksons Intl\"', '\"Papua New Guinea\"'),\n",
       " ('\"Wewak Intl\"', '\"Papua New Guinea\"'),\n",
       " ('\"Narsarsuaq\"', '\"Greenland\"'),\n",
       " ('\"Nuuk\"', '\"Greenland\"'),\n",
       " ('\"Sondre Stromfjord\"', '\"Greenland\"'),\n",
       " ('\"Thule Air Base\"', '\"Greenland\"'),\n",
       " ('\"Akureyri\"', '\"Iceland\"'),\n",
       " ('\"Egilsstadir\"', '\"Iceland\"'),\n",
       " ('\"Hornafjordur\"', '\"Iceland\"'),\n",
       " ('\"Husavik\"', '\"Iceland\"'),\n",
       " ('\"Isafjordur\"', '\"Iceland\"'),\n",
       " ('\"Keflavik International Airport\"', '\"Iceland\"'),\n",
       " ('\"Patreksfjordur\"', '\"Iceland\"'),\n",
       " ('\"Reykjavik\"', '\"Iceland\"'),\n",
       " ('\"Siglufjordur\"', '\"Iceland\"'),\n",
       " ('\"Vestmannaeyjar\"', '\"Iceland\"')]"
      ]
     },
     "execution_count": 11,
     "metadata": {},
     "output_type": "execute_result"
    }
   ],
   "source": [
    "airportsNotInUSA.take(20)"
   ]
  },
  {
   "cell_type": "code",
   "execution_count": 12,
   "metadata": {},
   "outputs": [],
   "source": [
    "upperCase = airportPairRDD.mapValues(lambda countryName: countryName.upper())"
   ]
  },
  {
   "cell_type": "code",
   "execution_count": 90,
   "metadata": {},
   "outputs": [
    {
     "data": {
      "text/plain": [
       "[('\"Goroka\"', '\"PAPUA NEW GUINEA\"'),\n",
       " ('\"Madang\"', '\"PAPUA NEW GUINEA\"'),\n",
       " ('\"Mount Hagen\"', '\"PAPUA NEW GUINEA\"'),\n",
       " ('\"Nadzab\"', '\"PAPUA NEW GUINEA\"'),\n",
       " ('\"Port Moresby Jacksons Intl\"', '\"PAPUA NEW GUINEA\"'),\n",
       " ('\"Wewak Intl\"', '\"PAPUA NEW GUINEA\"'),\n",
       " ('\"Narsarsuaq\"', '\"GREENLAND\"'),\n",
       " ('\"Nuuk\"', '\"GREENLAND\"'),\n",
       " ('\"Sondre Stromfjord\"', '\"GREENLAND\"'),\n",
       " ('\"Thule Air Base\"', '\"GREENLAND\"'),\n",
       " ('\"Akureyri\"', '\"ICELAND\"'),\n",
       " ('\"Egilsstadir\"', '\"ICELAND\"'),\n",
       " ('\"Hornafjordur\"', '\"ICELAND\"'),\n",
       " ('\"Husavik\"', '\"ICELAND\"'),\n",
       " ('\"Isafjordur\"', '\"ICELAND\"'),\n",
       " ('\"Keflavik International Airport\"', '\"ICELAND\"'),\n",
       " ('\"Patreksfjordur\"', '\"ICELAND\"'),\n",
       " ('\"Reykjavik\"', '\"ICELAND\"'),\n",
       " ('\"Siglufjordur\"', '\"ICELAND\"'),\n",
       " ('\"Vestmannaeyjar\"', '\"ICELAND\"'),\n",
       " ('\"Sault Ste Marie\"', '\"CANADA\"'),\n",
       " ('\"Winnipeg St Andrews\"', '\"CANADA\"'),\n",
       " ('\"Shearwater\"', '\"CANADA\"'),\n",
       " ('\"St Anthony\"', '\"CANADA\"'),\n",
       " ('\"Tofino\"', '\"CANADA\"'),\n",
       " ('\"Kugaaruk\"', '\"CANADA\"'),\n",
       " ('\"Baie Comeau\"', '\"CANADA\"'),\n",
       " ('\"Bagotville\"', '\"CANADA\"'),\n",
       " ('\"Baker Lake\"', '\"CANADA\"'),\n",
       " ('\"Campbell River\"', '\"CANADA\"')]"
      ]
     },
     "execution_count": 90,
     "metadata": {},
     "output_type": "execute_result"
    }
   ],
   "source": [
    "upperCase.take(30)"
   ]
  },
  {
   "cell_type": "markdown",
   "metadata": {},
   "source": [
    "# Task :-> Average_House_Price_Calculation"
   ]
  },
  {
   "cell_type": "code",
   "execution_count": 91,
   "metadata": {},
   "outputs": [],
   "source": [
    "\n",
    "# @hidden_cell\n",
    "# The following code contains the credentials for a file in your IBM Cloud Object Storage.\n",
    "# You might want to remove those credentials before you share your notebook.\n",
    "credentials_2 = {\n",
    "    'IAM_SERVICE_ID': 'iam-ServiceId-1c03b368-fd26-4891-a4b0-b0f383badb77',\n",
    "    'IBM_API_KEY_ID': 'WMxdeLf8k6VGIhKFG2D9bklY7EmVI_nm6HIcx-cCNexe',\n",
    "    'ENDPOINT': 'https://s3.eu-geo.objectstorage.service.networklayer.com',\n",
    "    'IBM_AUTH_ENDPOINT': 'https://iam.eu-gb.bluemix.net/oidc/token',\n",
    "    'BUCKET': 'sparktry-donotdelete-pr-adbnjs9sf1yuav',\n",
    "    'FILE': 'RealEstate.csv'\n",
    "}\n",
    "real_data = cos.url('RealEstate.csv', 'sparktry-donotdelete-pr-adbnjs9sf1yuav')"
   ]
  },
  {
   "cell_type": "code",
   "execution_count": 92,
   "metadata": {},
   "outputs": [],
   "source": [
    "real_state_data = sc.textFile(real_data)"
   ]
  },
  {
   "cell_type": "code",
   "execution_count": 94,
   "metadata": {},
   "outputs": [
    {
     "data": {
      "text/plain": [
       "['MLS,Location,Price,Bedrooms,Bathrooms,Size,Price SQ Ft,Status',\n",
       " '132842,Arroyo Grande,795000.00,3,3,2371,335.30,Short Sale',\n",
       " '134364,Paso Robles,399000.00,4,3,2818,141.59,Short Sale',\n",
       " '135141,Paso Robles,545000.00,4,3,3032,179.75,Short Sale',\n",
       " '135712,Morro Bay,909000.00,4,4,3540,256.78,Short Sale',\n",
       " '136282,Santa Maria-Orcutt,109900.00,3,1,1249,87.99,Short Sale',\n",
       " '136431,Oceano,324900.00,3,3,1800,180.50,Short Sale',\n",
       " '137036,Santa Maria-Orcutt,192900.00,4,2,1603,120.34,Short Sale',\n",
       " '137090,Santa Maria-Orcutt,215000.00,3,2,1450,148.28,Short Sale',\n",
       " '137159,Morro Bay,999000.00,4,3,3360,297.32,Short Sale']"
      ]
     },
     "execution_count": 94,
     "metadata": {},
     "output_type": "execute_result"
    }
   ],
   "source": [
    "real_state_data.take(10)"
   ]
  },
  {
   "cell_type": "code",
   "execution_count": 96,
   "metadata": {},
   "outputs": [],
   "source": [
    "cleanedLines = real_state_data.filter(lambda line: \"Bedrooms\" not in line)"
   ]
  },
  {
   "cell_type": "code",
   "execution_count": 97,
   "metadata": {},
   "outputs": [],
   "source": [
    "housePricePairRdd = cleanedLines.map(lambda line: (line.split(\",\")[3], float(line.split(\",\")[2])))"
   ]
  },
  {
   "cell_type": "code",
   "execution_count": 98,
   "metadata": {},
   "outputs": [],
   "source": [
    "createCombiner = lambda x: (1, x)\n",
    "mergeValue = lambda avgCount, x: (avgCount[0] + 1, avgCount[1] + x)\n",
    "mergeCombiners = lambda avgCountA, avgCountB: (avgCountA[0] + avgCountB[0], avgCountA[1] + avgCountB[1])"
   ]
  },
  {
   "cell_type": "code",
   "execution_count": 99,
   "metadata": {},
   "outputs": [],
   "source": [
    "housePriceTotal = housePricePairRdd.combineByKey(createCombiner, mergeValue, mergeCombiners)"
   ]
  },
  {
   "cell_type": "code",
   "execution_count": 103,
   "metadata": {},
   "outputs": [
    {
     "name": "stdout",
     "output_type": "stream",
     "text": [
      "Bedrooms Price \n",
      "4 : 483475.6497175141\n",
      "1 : 169981.81818181818\n",
      "0 : 293450.0\n",
      "10 : 699000.0\n",
      "3 : 359062.20649651974\n",
      "2 : 266356.3739837398\n",
      "5 : 657858.0645161291\n",
      "6 : 603225.0\n",
      "7 : 325000.0\n"
     ]
    }
   ],
   "source": [
    "housePriceAvg = housePriceTotal.mapValues(lambda avgCount: avgCount[1] / avgCount[0])\n",
    "print(\"Bedrooms\",\"Price\",end=\" \")\n",
    "print()\n",
    "for bedrooms, avgPrice in housePriceAvg.collect():\n",
    "    print(\"{} : {}\".format(bedrooms, avgPrice))"
   ]
  }
 ],
 "metadata": {
  "kernelspec": {
   "display_name": "Python 3",
   "language": "python",
   "name": "python3"
  },
  "language_info": {
   "codemirror_mode": {
    "name": "ipython",
    "version": 3
   },
   "file_extension": ".py",
   "mimetype": "text/x-python",
   "name": "python",
   "nbconvert_exporter": "python",
   "pygments_lexer": "ipython3",
   "version": "3.6.5"
  }
 },
 "nbformat": 4,
 "nbformat_minor": 1
}
