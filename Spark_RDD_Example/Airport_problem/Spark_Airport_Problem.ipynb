{
 "cells": [
  {
   "cell_type": "markdown",
   "metadata": {},
   "source": [
    "# What is SparkContext?\n",
    "Spark comes with interactive python shell in which PySpark is already installed in it. PySpark automatically creates a SparkContext for you in the PySpark Shell. SparkContext is an entry point into the world of Spark. An entry point is a way of connecting to Spark cluster. We can use SparkContext using sc variable. In the following examples, we retrieve SparkContext version and Python version of SparkContext."
   ]
  },
  {
   "cell_type": "code",
   "execution_count": 1,
   "metadata": {},
   "outputs": [
    {
     "name": "stdout",
     "output_type": "stream",
     "text": [
      "Waiting for a Spark session to start...\n",
      "Spark Initialization Done! ApplicationId = app-20200303033042-0000\n",
      "KERNEL_ID = 5b7c44b3-a29d-41a9-9efc-50db7cc29a76\n"
     ]
    },
    {
     "data": {
      "text/plain": [
       "'2.3.3'"
      ]
     },
     "execution_count": 1,
     "metadata": {},
     "output_type": "execute_result"
    }
   ],
   "source": [
    "# to retrieve SparkContext version\n",
    "sc.version"
   ]
  },
  {
   "cell_type": "code",
   "execution_count": 2,
   "metadata": {},
   "outputs": [
    {
     "data": {
      "text/plain": [
       "'3.6'"
      ]
     },
     "execution_count": 2,
     "metadata": {},
     "output_type": "execute_result"
    }
   ],
   "source": [
    "# to retriece Python version of SparkContext\n",
    "sc.pythonVer"
   ]
  },
  {
   "cell_type": "code",
   "execution_count": 5,
   "metadata": {},
   "outputs": [
    {
     "data": {
      "text/plain": [
       "[Row(_c0='0', person_id='100', name='Penelope Lewis', sex='female', date of birth='1990-08-31'),\n",
       " Row(_c0='1', person_id='101', name='David Anthony', sex='male', date of birth='1971-10-14'),\n",
       " Row(_c0='2', person_id='102', name='Ida Shipp', sex='female', date of birth='1962-05-24'),\n",
       " Row(_c0='3', person_id='103', name='Joanna Moore', sex='female', date of birth='2017-03-10'),\n",
       " Row(_c0='4', person_id='104', name='Lisandra Ortiz', sex='female', date of birth='2020-08-05')]"
      ]
     },
     "execution_count": 5,
     "metadata": {},
     "output_type": "execute_result"
    }
   ],
   "source": [
    "\n",
    "import ibmos2spark\n",
    "@hidden_cell\n",
    "# The following code contains the credentials for a file in your IBM Cloud Object Storage.\n",
    "# IBM WATSON PYTHON+SPARK ENVIRONMENT\n",
    "# xxxx - PUT YOUR CREDENTIAL\n",
    "credentials = {\n",
    "    'endpoint': 'xxxx',\n",
    "    'service_id': 'xxxx',\n",
    "    'iam_service_endpoint': 'xxxx',\n",
    "    'api_key': 'xxxx'\n",
    "}\n",
    "\n",
    "configuration_name = 'os_0a7faf2d576d4d0e985305b42aae4ce7_configs'\n",
    "cos = ibmos2spark.CloudObjectStorage(sc, credentials, configuration_name, 'bluemix_cos')\n",
    "\n",
    "from pyspark.sql import SparkSession\n",
    "spark = SparkSession.builder.getOrCreate()\n",
    "df_data_1 = spark.read\\\n",
    "  .format('org.apache.spark.sql.execution.datasources.csv.CSVFileFormat')\\\n",
    "  .option('header', 'true')\\\n",
    "  .load(cos.url('people.csv', 'sparktry-donotdelete-pr-adbnjs9sf1yuav'))\n",
    "df_data_1.take(5)"
   ]
  },
  {
   "cell_type": "markdown",
   "metadata": {},
   "source": [
    "# Problem 1:->\n",
    "\n",
    "### Create a Spark program to read the airport data from airports.text and  find all the airports which are located in United States and output the airport's name and the city's name."
   ]
  },
  {
   "cell_type": "code",
   "execution_count": 6,
   "metadata": {},
   "outputs": [],
   "source": [
    "\n",
    "@hidden_cell\n",
    "# The following code contains the credentials for a file in your IBM Cloud Object Storage.\n",
    "# You might want to remove those credentials before you share your notebook.\n",
    "credentials_1 = {\n",
    "    'IAM_SERVICE_ID': 'XXXX',\n",
    "    'IBM_API_KEY_ID': 'XXXX',\n",
    "    'ENDPOINT': 'XXXX',\n",
    "    'IBM_AUTH_ENDPOINT': 'XXXX',\n",
    "    'BUCKET': 'XXXX',\n",
    "    'FILE': 'airports.text'\n",
    "}\n",
    "aiport_data = cos.url('airports.text', 'sparktry-donotdelete-pr-adbnjs9sf1yuav')"
   ]
  },
  {
   "cell_type": "code",
   "execution_count": 7,
   "metadata": {},
   "outputs": [],
   "source": [
    "# load the aiport_data dataset into a rdd named clusterRDD\n",
    "clusterRDD = sc.textFile(aiport_data)"
   ]
  },
  {
   "cell_type": "code",
   "execution_count": 8,
   "metadata": {},
   "outputs": [
    {
     "data": {
      "text/plain": [
       "['1,\"Goroka\",\"Goroka\",\"Papua New Guinea\",\"GKA\",\"AYGA\",-6.081689,145.391881,5282,10,\"U\",\"Pacific/Port_Moresby\"',\n",
       " '2,\"Madang\",\"Madang\",\"Papua New Guinea\",\"MAG\",\"AYMD\",-5.207083,145.7887,20,10,\"U\",\"Pacific/Port_Moresby\"',\n",
       " '3,\"Mount Hagen\",\"Mount Hagen\",\"Papua New Guinea\",\"HGU\",\"AYMH\",-5.826789,144.295861,5388,10,\"U\",\"Pacific/Port_Moresby\"',\n",
       " '4,\"Nadzab\",\"Nadzab\",\"Papua New Guinea\",\"LAE\",\"AYNZ\",-6.569828,146.726242,239,10,\"U\",\"Pacific/Port_Moresby\"',\n",
       " '5,\"Port Moresby Jacksons Intl\",\"Port Moresby\",\"Papua New Guinea\",\"POM\",\"AYPY\",-9.443383,147.22005,146,10,\"U\",\"Pacific/Port_Moresby\"']"
      ]
     },
     "execution_count": 8,
     "metadata": {},
     "output_type": "execute_result"
    }
   ],
   "source": [
    "# Data of 5 rows\n",
    "clusterRDD.take(5)"
   ]
  },
  {
   "cell_type": "code",
   "execution_count": 10,
   "metadata": {},
   "outputs": [],
   "source": [
    "# For removing the commas and spaces\n",
    "import re\n",
    "class Utils():\n",
    "    COMMA_DELIMITER = re.compile(''',(?=(?:[^\"]*\"[^\"]*\")*[^\"]*$)''')"
   ]
  },
  {
   "cell_type": "code",
   "execution_count": 11,
   "metadata": {},
   "outputs": [],
   "source": [
    "# Splitting of the result\n",
    "def splitComma(line: str):\n",
    "    splits = Utils.COMMA_DELIMITER.split(line)\n",
    "    return \"{}, {}\".format(splits[1], splits[2])"
   ]
  },
  {
   "cell_type": "code",
   "execution_count": 12,
   "metadata": {},
   "outputs": [],
   "source": [
    "# Applying the tranformation\n",
    "airportsInUSA = clusterRDD.filter(lambda line : Utils.COMMA_DELIMITER.split(line)[3] == \"\\\"United States\\\"\")"
   ]
  },
  {
   "cell_type": "code",
   "execution_count": 13,
   "metadata": {},
   "outputs": [],
   "source": [
    "# After applying map to join aiport name and city\n",
    "airportsNameAndCityNames = airportsInUSA.map(splitComma)"
   ]
  },
  {
   "cell_type": "code",
   "execution_count": 15,
   "metadata": {},
   "outputs": [
    {
     "data": {
      "text/plain": [
       "['\"Putnam County Airport\", \"Greencastle\"',\n",
       " '\"Dowagiac Municipal Airport\", \"Dowagiac\"',\n",
       " '\"Cambridge Municipal Airport\", \"Cambridge\"',\n",
       " '\"Door County Cherryland Airport\", \"Sturgeon Bay\"',\n",
       " '\"Shoestring Aviation Airfield\", \"Stewartstown\"',\n",
       " '\"Eastern Oregon Regional Airport\", \"Pendleton\"',\n",
       " '\"Tyonek Airport\", \"Tyonek\"',\n",
       " '\"Riverton Regional\", \"Riverton WY\"',\n",
       " '\"Montrose Regional Airport\", \"Montrose CO\"',\n",
       " '\"Clow International Airport\", \"Bolingbrook\"']"
      ]
     },
     "execution_count": 15,
     "metadata": {},
     "output_type": "execute_result"
    }
   ],
   "source": [
    "airportsNameAndCityNames.take(10)"
   ]
  },
  {
   "cell_type": "markdown",
   "metadata": {},
   "source": [
    "# Problem - 2 :->\n",
    "### Create a Spark program to read the airport data from in/airports.text,  find all the airports whose latitude are bigger than 40."
   ]
  },
  {
   "cell_type": "code",
   "execution_count": 26,
   "metadata": {},
   "outputs": [],
   "source": [
    "airports_latitude = clusterRDD.filter(lambda line: float(Utils.COMMA_DELIMITER.split(line)[6]) > 40)"
   ]
  },
  {
   "cell_type": "code",
   "execution_count": 27,
   "metadata": {},
   "outputs": [],
   "source": [
    "# Splitting of the result\n",
    "def splitCommaLat(line: str):\n",
    "    splits = Utils.COMMA_DELIMITER.split(line)\n",
    "    return \"{}, {}\".format(splits[1], splits[6])"
   ]
  },
  {
   "cell_type": "code",
   "execution_count": 28,
   "metadata": {},
   "outputs": [],
   "source": [
    "airportsNames = airports_latitude.map(splitCommaLat)"
   ]
  },
  {
   "cell_type": "code",
   "execution_count": 30,
   "metadata": {},
   "outputs": [
    {
     "data": {
      "text/plain": [
       "['\"Narsarsuaq\", 61.160517',\n",
       " '\"Nuuk\", 64.190922',\n",
       " '\"Sondre Stromfjord\", 67.016969',\n",
       " '\"Thule Air Base\", 76.531203',\n",
       " '\"Akureyri\", 65.659994',\n",
       " '\"Egilsstadir\", 65.283333',\n",
       " '\"Hornafjordur\", 64.295556',\n",
       " '\"Husavik\", 65.952328',\n",
       " '\"Isafjordur\", 66.058056',\n",
       " '\"Keflavik International Airport\", 63.985',\n",
       " '\"Patreksfjordur\", 65.555833',\n",
       " '\"Reykjavik\", 64.13',\n",
       " '\"Siglufjordur\", 66.133333',\n",
       " '\"Vestmannaeyjar\", 63.424303',\n",
       " '\"Sault Ste Marie\", 46.485001',\n",
       " '\"Winnipeg St Andrews\", 50.056389',\n",
       " '\"Shearwater\", 44.639721',\n",
       " '\"St Anthony\", 51.391944',\n",
       " '\"Tofino\", 49.082222',\n",
       " '\"Kugaaruk\", 68.534444']"
      ]
     },
     "execution_count": 30,
     "metadata": {},
     "output_type": "execute_result"
    }
   ],
   "source": [
    "airportsNames.take(20)"
   ]
  },
  {
   "cell_type": "code",
   "execution_count": 31,
   "metadata": {},
   "outputs": [
    {
     "data": {
      "text/plain": [
       "3309"
      ]
     },
     "execution_count": 31,
     "metadata": {},
     "output_type": "execute_result"
    }
   ],
   "source": [
    "# Number of outputs\n",
    "airportsNames.count()"
   ]
  }
 ],
 "metadata": {
  "kernelspec": {
   "display_name": "Python 3",
   "language": "python",
   "name": "python3"
  },
  "language_info": {
   "codemirror_mode": {
    "name": "ipython",
    "version": 3
   },
   "file_extension": ".py",
   "mimetype": "text/x-python",
   "name": "python",
   "nbconvert_exporter": "python",
   "pygments_lexer": "ipython3",
   "version": "3.6.5"
  }
 },
 "nbformat": 4,
 "nbformat_minor": 1
}
