{
 "cells": [
  {
   "cell_type": "markdown",
   "metadata": {},
   "source": [
    "# Task :->  Use of Machine Learning Library (MLlib) :- Spark’s machine learning (ML) library for Clustering\n",
    "\n",
    "### Model :-> K-Means\n",
    "\n",
    "### Dataset :-> Auto.csv\n"
   ]
  },
  {
   "cell_type": "code",
   "execution_count": 1,
   "metadata": {},
   "outputs": [
    {
     "name": "stdout",
     "output_type": "stream",
     "text": [
      "Waiting for a Spark session to start...\n",
      "Spark Initialization Done! ApplicationId = app-20200303161216-0000\n",
      "KERNEL_ID = 9114ccfc-5dcb-45b8-80b8-47fc9d2fffce\n"
     ]
    }
   ],
   "source": [
    "# For Local Machine sparkcontext creation\n",
    "from pyspark.sql import SparkSession\n",
    "spark = SparkSession.builder.master(\"local[*]\").getOrCreate()\n",
    "\n",
    "# In cloud the sparkcontext is created as \"sc\" \n",
    "# ex:- IBM watson \n",
    "# python :- 3.6\n",
    "# spark :- 2.3.3"
   ]
  },
  {
   "cell_type": "code",
   "execution_count": 2,
   "metadata": {},
   "outputs": [
    {
     "data": {
      "text/plain": [
       "'2.3.3'"
      ]
     },
     "execution_count": 2,
     "metadata": {},
     "output_type": "execute_result"
    }
   ],
   "source": [
    "sc.version"
   ]
  },
  {
   "cell_type": "code",
   "execution_count": 3,
   "metadata": {},
   "outputs": [],
   "source": [
    "# The following code contains the credentials for a file in your IBM Cloud Object Storage.\n",
    "\n",
    "import ibmos2spark\n",
    "# @hidden_cell\n",
    "credentials = {\n",
    "    'endpoint': 'XXXX',\n",
    "    'service_id': 'XXXX',\n",
    "    'iam_service_endpoint': 'XXXX',\n",
    "    'api_key': 'XXXX'\n",
    "}\n",
    "\n",
    "configuration_name = 'os_0a7faf2d576d4d0e985305b42aae4ce7_configs'\n",
    "cos = ibmos2spark.CloudObjectStorage(sc, credentials, configuration_name, 'bluemix_cos')\n"
   ]
  },
  {
   "cell_type": "code",
   "execution_count": 5,
   "metadata": {},
   "outputs": [],
   "source": [
    "\n",
    "# @hidden_cell\n",
    "# The following code contains the credentials for a file in your IBM Cloud Object Storage.\n",
    "# You might want to remove those credentials before you share your notebook.\n",
    "credentials_1 = {\n",
    "    'IAM_SERVICE_ID': 'XXXX',\n",
    "    'IBM_API_KEY_ID': 'XXXX',\n",
    "    'ENDPOINT': 'XXX',\n",
    "    'IBM_AUTH_ENDPOINT': 'XXXX',\n",
    "    'BUCKET': 'XXXX',\n",
    "    'FILE': 'Auto.csv'\n",
    "}\n",
    "data_link = cos.url('Auto.csv', 'sparktry-donotdelete-pr-adbnjs9sf1yuav')"
   ]
  },
  {
   "cell_type": "code",
   "execution_count": 7,
   "metadata": {},
   "outputs": [],
   "source": [
    "df_auto = spark.read.csv(data_link, header=True, inferSchema=True)"
   ]
  },
  {
   "cell_type": "code",
   "execution_count": 8,
   "metadata": {},
   "outputs": [
    {
     "name": "stdout",
     "output_type": "stream",
     "text": [
      "+----+---------+------------+----------+------+------------+----+------+--------------------+\n",
      "| mpg|cylinders|displacement|horsepower|weight|acceleration|year|origin|                name|\n",
      "+----+---------+------------+----------+------+------------+----+------+--------------------+\n",
      "|18.0|        8|       307.0|       130|  3504|        12.0|  70|     1|chevrolet chevell...|\n",
      "|15.0|        8|       350.0|       165|  3693|        11.5|  70|     1|   buick skylark 320|\n",
      "|18.0|        8|       318.0|       150|  3436|        11.0|  70|     1|  plymouth satellite|\n",
      "|16.0|        8|       304.0|       150|  3433|        12.0|  70|     1|       amc rebel sst|\n",
      "|17.0|        8|       302.0|       140|  3449|        10.5|  70|     1|         ford torino|\n",
      "|15.0|        8|       429.0|       198|  4341|        10.0|  70|     1|    ford galaxie 500|\n",
      "|14.0|        8|       454.0|       220|  4354|         9.0|  70|     1|    chevrolet impala|\n",
      "|14.0|        8|       440.0|       215|  4312|         8.5|  70|     1|   plymouth fury iii|\n",
      "|14.0|        8|       455.0|       225|  4425|        10.0|  70|     1|    pontiac catalina|\n",
      "|15.0|        8|       390.0|       190|  3850|         8.5|  70|     1|  amc ambassador dpl|\n",
      "|15.0|        8|       383.0|       170|  3563|        10.0|  70|     1| dodge challenger se|\n",
      "|14.0|        8|       340.0|       160|  3609|         8.0|  70|     1|  plymouth 'cuda 340|\n",
      "|15.0|        8|       400.0|       150|  3761|         9.5|  70|     1|chevrolet monte c...|\n",
      "|14.0|        8|       455.0|       225|  3086|        10.0|  70|     1|buick estate wago...|\n",
      "|24.0|        4|       113.0|        95|  2372|        15.0|  70|     3|toyota corona mar...|\n",
      "|22.0|        6|       198.0|        95|  2833|        15.5|  70|     1|     plymouth duster|\n",
      "|18.0|        6|       199.0|        97|  2774|        15.5|  70|     1|          amc hornet|\n",
      "|21.0|        6|       200.0|        85|  2587|        16.0|  70|     1|       ford maverick|\n",
      "|27.0|        4|        97.0|        88|  2130|        14.5|  70|     3|        datsun pl510|\n",
      "|26.0|        4|        97.0|        46|  1835|        20.5|  70|     2|volkswagen 1131 d...|\n",
      "+----+---------+------------+----------+------+------------+----+------+--------------------+\n",
      "only showing top 20 rows\n",
      "\n"
     ]
    }
   ],
   "source": [
    "df_auto.show()"
   ]
  },
  {
   "cell_type": "code",
   "execution_count": 9,
   "metadata": {},
   "outputs": [
    {
     "name": "stdout",
     "output_type": "stream",
     "text": [
      "root\n",
      " |-- mpg: double (nullable = true)\n",
      " |-- cylinders: integer (nullable = true)\n",
      " |-- displacement: double (nullable = true)\n",
      " |-- horsepower: integer (nullable = true)\n",
      " |-- weight: integer (nullable = true)\n",
      " |-- acceleration: double (nullable = true)\n",
      " |-- year: integer (nullable = true)\n",
      " |-- origin: integer (nullable = true)\n",
      " |-- name: string (nullable = true)\n",
      "\n"
     ]
    }
   ],
   "source": [
    "df_auto.printSchema()"
   ]
  },
  {
   "cell_type": "code",
   "execution_count": 20,
   "metadata": {},
   "outputs": [
    {
     "data": {
      "image/png": "[encoded data removed]",
      "text/plain": [
       "<Figure size 432x288 with 1 Axes>"
      ]
     },
     "metadata": {
      "needs_background": "light"
     },
     "output_type": "display_data"
    }
   ],
   "source": [
    "# we use only dispacement,horsepower and weight\n",
    "# sampling and plotting the dataframe\n",
    "import pandas as pd\n",
    "import matplotlib.pyplot as plt\n",
    "x='horsepower'\n",
    "y='weight'\n",
    "sampled_data = df_auto.select(x,y).sample(False, 0.8).toPandas()\n",
    "plt.scatter(sampled_data.horsepower,sampled_data.weight)\n",
    "plt.xlabel(x)\n",
    "plt.ylabel(y)\n",
    "plt.title('relation of horsepower and weight')\n",
    "plt.show()"
   ]
  },
  {
   "cell_type": "code",
   "execution_count": 22,
   "metadata": {},
   "outputs": [
    {
     "name": "stdout",
     "output_type": "stream",
     "text": [
      "+--------------+\n",
      "|      features|\n",
      "+--------------+\n",
      "|[130.0,3504.0]|\n",
      "|[165.0,3693.0]|\n",
      "|[150.0,3436.0]|\n",
      "|[150.0,3433.0]|\n",
      "|[140.0,3449.0]|\n",
      "|[198.0,4341.0]|\n",
      "|[220.0,4354.0]|\n",
      "|[215.0,4312.0]|\n",
      "|[225.0,4425.0]|\n",
      "|[190.0,3850.0]|\n",
      "+--------------+\n",
      "only showing top 10 rows\n",
      "\n"
     ]
    }
   ],
   "source": [
    "# assembling the columns\n",
    "from pyspark.ml.feature import VectorAssembler\n",
    "vectorAssembler = VectorAssembler(inputCols = [x,y], outputCol = 'features')\n",
    "v_df = vectorAssembler.transform(df_auto)\n",
    "v_df = v_df.select(['features'])\n",
    "v_df.show(10)"
   ]
  },
  {
   "cell_type": "markdown",
   "metadata": {},
   "source": [
    "# K-Means Clustering"
   ]
  },
  {
   "cell_type": "code",
   "execution_count": 23,
   "metadata": {},
   "outputs": [],
   "source": [
    "from pyspark.ml.clustering import KMeans\n",
    "from pyspark.ml.evaluation import ClusteringEvaluator"
   ]
  },
  {
   "cell_type": "code",
   "execution_count": 30,
   "metadata": {},
   "outputs": [],
   "source": [
    "# creating objects with four centers and fitting\n",
    "kmeans = KMeans().setK(4).setSeed(1)\n",
    "model = kmeans.fit(v_df)"
   ]
  },
  {
   "cell_type": "code",
   "execution_count": 31,
   "metadata": {},
   "outputs": [],
   "source": [
    "# predicting centers\n",
    "predictions = model.transform(v_df)"
   ]
  },
  {
   "cell_type": "code",
   "execution_count": 32,
   "metadata": {},
   "outputs": [
    {
     "name": "stdout",
     "output_type": "stream",
     "text": [
      "+--------------+----------+\n",
      "|      features|prediction|\n",
      "+--------------+----------+\n",
      "|[130.0,3504.0]|         1|\n",
      "|[165.0,3693.0]|         1|\n",
      "|[150.0,3436.0]|         1|\n",
      "|[150.0,3433.0]|         1|\n",
      "|[140.0,3449.0]|         1|\n",
      "+--------------+----------+\n",
      "only showing top 5 rows\n",
      "\n"
     ]
    }
   ],
   "source": [
    "predictions.show(5)"
   ]
  },
  {
   "cell_type": "code",
   "execution_count": 33,
   "metadata": {},
   "outputs": [
    {
     "name": "stdout",
     "output_type": "stream",
     "text": [
      "Silhouette with squared euclidean distance = 0.7522590533965963\n"
     ]
    }
   ],
   "source": [
    "# Evaluate clustering by computing Silhouette score\n",
    "evaluator = ClusteringEvaluator()\n",
    "silhouette = evaluator.evaluate(predictions)\n",
    "print(\"Silhouette with squared euclidean distance = \" + str(silhouette))"
   ]
  },
  {
   "cell_type": "code",
   "execution_count": 34,
   "metadata": {},
   "outputs": [
    {
     "name": "stdout",
     "output_type": "stream",
     "text": [
      "Cluster Centers: \n",
      "[  72.94852941 2107.70588235]\n",
      "[ 115.57954545 3489.01136364]\n",
      "[ 165.13043478 4366.5942029 ]\n",
      "[  95.61616162 2749.86868687]\n"
     ]
    }
   ],
   "source": [
    "# Shows the center points\n",
    "centers = model.clusterCenters()\n",
    "print(\"Cluster Centers: \")\n",
    "for center in centers:\n",
    "    print(center)"
   ]
  },
  {
   "cell_type": "code",
   "execution_count": 35,
   "metadata": {},
   "outputs": [
    {
     "name": "stdout",
     "output_type": "stream",
     "text": [
      "+--------------+\n",
      "|      features|\n",
      "+--------------+\n",
      "|[130.0,3504.0]|\n",
      "|[165.0,3693.0]|\n",
      "|[150.0,3436.0]|\n",
      "|[150.0,3433.0]|\n",
      "|[140.0,3449.0]|\n",
      "+--------------+\n",
      "only showing top 5 rows\n",
      "\n"
     ]
    }
   ],
   "source": [
    "predictions.select('features').show(5)"
   ]
  },
  {
   "cell_type": "code",
   "execution_count": 36,
   "metadata": {},
   "outputs": [],
   "source": [
    "from pyspark.sql.functions import udf\n",
    "from pyspark.sql.types import ArrayType, FloatType"
   ]
  },
  {
   "cell_type": "code",
   "execution_count": 37,
   "metadata": {},
   "outputs": [],
   "source": [
    "\n",
    "split1_udf = udf(lambda value: value[0].item(), FloatType())\n",
    "split2_udf = udf(lambda value: value[1].item(), FloatType())"
   ]
  },
  {
   "cell_type": "code",
   "execution_count": 38,
   "metadata": {},
   "outputs": [],
   "source": [
    "# unpacking features column so that we can plot them \n",
    "predictions=predictions.withColumn('x', split1_udf('features')).withColumn('y', split2_udf('features'))"
   ]
  },
  {
   "cell_type": "code",
   "execution_count": 39,
   "metadata": {},
   "outputs": [
    {
     "name": "stdout",
     "output_type": "stream",
     "text": [
      "+--------------+----------+-----+------+\n",
      "|      features|prediction|    x|     y|\n",
      "+--------------+----------+-----+------+\n",
      "|[130.0,3504.0]|         1|130.0|3504.0|\n",
      "|[165.0,3693.0]|         1|165.0|3693.0|\n",
      "|[150.0,3436.0]|         1|150.0|3436.0|\n",
      "|[150.0,3433.0]|         1|150.0|3433.0|\n",
      "+--------------+----------+-----+------+\n",
      "only showing top 4 rows\n",
      "\n"
     ]
    }
   ],
   "source": [
    "predictions.show(4)"
   ]
  },
  {
   "cell_type": "code",
   "execution_count": 40,
   "metadata": {},
   "outputs": [],
   "source": [
    "# sampling data to plot \n",
    "data = predictions.select('x','y','prediction').sample(False, 0.8).toPandas()"
   ]
  },
  {
   "cell_type": "code",
   "execution_count": 41,
   "metadata": {},
   "outputs": [],
   "source": [
    "x_cord = [[],[],[],[]]\n",
    "y_cord = [[],[],[],[]]"
   ]
  },
  {
   "cell_type": "code",
   "execution_count": 42,
   "metadata": {},
   "outputs": [],
   "source": [
    "cx = []\n",
    "cy = []\n",
    "for center in model.clusterCenters():\n",
    "    cx.append(center[0])\n",
    "    cy.append(center[1])"
   ]
  },
  {
   "cell_type": "code",
   "execution_count": 43,
   "metadata": {},
   "outputs": [],
   "source": [
    "for i in range(len(data)):\n",
    "    x_cord[data.loc[i,'prediction']].append(data.loc[i,'x'])\n",
    "    y_cord[data.loc[i,'prediction']].append(data.loc[i,'y'])"
   ]
  },
  {
   "cell_type": "code",
   "execution_count": 45,
   "metadata": {},
   "outputs": [
    {
     "data": {
      "image/png": "[encoded data removed]",
      "text/plain": [
       "<Figure size 432x288 with 1 Axes>"
      ]
     },
     "metadata": {
      "needs_background": "light"
     },
     "output_type": "display_data"
    }
   ],
   "source": [
    "# plotting the clusters\n",
    "plt.scatter(x_cord[0],y_cord[0],c='yellow')\n",
    "plt.scatter(x_cord[1],y_cord[1],c='orange')\n",
    "plt.scatter(x_cord[2],y_cord[2],c='cyan')\n",
    "plt.scatter(x_cord[3],y_cord[3],c='magenta')\n",
    "plt.scatter(cx,cy,c='blue',marker='x')\n",
    "plt.xlabel('Income')\n",
    "plt.ylabel('Expenditure')\n",
    "plt.title('KMeans Result')\n",
    "plt.show()"
   ]
  },
  {
   "cell_type": "code",
   "execution_count": null,
   "metadata": {},
   "outputs": [],
   "source": []
  },
  {
   "cell_type": "markdown",
   "metadata": {},
   "source": [
    "# Bisecting k-means"
   ]
  },
  {
   "cell_type": "code",
   "execution_count": 53,
   "metadata": {},
   "outputs": [],
   "source": [
    "from pyspark.ml.clustering import BisectingKMeans\n",
    "\n",
    "x=\"horsepower\"\n",
    "y=\"weight\"\n",
    "sampled_data_df = df_auto.select(x,y)\n",
    "# Trains a bisecting k-means model.\n",
    "# bkm = BisectingKMeans().setK(4).setSeed(1)\n",
    "# model = bkm.fit(sampled_data)"
   ]
  },
  {
   "cell_type": "code",
   "execution_count": 56,
   "metadata": {},
   "outputs": [],
   "source": [
    "df_auto_ms = spark.read.csv(data_link, header=True, inferSchema=True)"
   ]
  },
  {
   "cell_type": "code",
   "execution_count": 57,
   "metadata": {},
   "outputs": [],
   "source": [
    "df = df_auto_ms.drop(\"mpg\",\"cylinders\",\"displacement\",\"acceleration\",\"year\",\"origin\")"
   ]
  },
  {
   "cell_type": "code",
   "execution_count": 59,
   "metadata": {},
   "outputs": [
    {
     "name": "stdout",
     "output_type": "stream",
     "text": [
      "+--------------+\n",
      "|      features|\n",
      "+--------------+\n",
      "|[130.0,3504.0]|\n",
      "|[165.0,3693.0]|\n",
      "|[150.0,3436.0]|\n",
      "+--------------+\n",
      "only showing top 3 rows\n",
      "\n"
     ]
    }
   ],
   "source": [
    "from pyspark.ml.feature import VectorAssembler\n",
    "vectorAssembler = VectorAssembler(inputCols = ['horsepower','weight'], outputCol = 'features')\n",
    "v_df = vectorAssembler.transform(df)\n",
    "v_df = v_df.select(['features'])\n",
    "v_df.show(3)"
   ]
  },
  {
   "cell_type": "code",
   "execution_count": 60,
   "metadata": {},
   "outputs": [],
   "source": [
    "from pyspark.ml.clustering import BisectingKMeans\n",
    "\n",
    "# Trains a bisecting k-means model.\n",
    "bkm = BisectingKMeans().setK(2).setSeed(1)\n",
    "model = bkm.fit(v_df)"
   ]
  },
  {
   "cell_type": "code",
   "execution_count": 63,
   "metadata": {},
   "outputs": [
    {
     "name": "stdout",
     "output_type": "stream",
     "text": [
      "Within Set Sum of Squared Errors = 71600415.82583654\n"
     ]
    }
   ],
   "source": [
    "# Evaluate clustering.\n",
    "cost = model.computeCost(v_df)\n",
    "print(\"Within Set Sum of Squared Errors = \" + str(cost))"
   ]
  },
  {
   "cell_type": "code",
   "execution_count": 64,
   "metadata": {},
   "outputs": [
    {
     "name": "stdout",
     "output_type": "stream",
     "text": [
      "Cluster Centers: \n",
      "[  82.59322034 2381.38135593]\n",
      "[ 137.56410256 3879.53205128]\n"
     ]
    }
   ],
   "source": [
    "# Shows the result.\n",
    "print(\"Cluster Centers: \")\n",
    "centers = model.clusterCenters()\n",
    "for center in centers:\n",
    "    print(center)"
   ]
  },
  {
   "cell_type": "markdown",
   "metadata": {},
   "source": [
    "# **<center>Thanks!</center>**"
   ]
  }
 ],
 "metadata": {
  "kernelspec": {
   "display_name": "Python 3",
   "language": "python",
   "name": "python3"
  },
  "language_info": {
   "codemirror_mode": {
    "name": "ipython",
    "version": 3
   },
   "file_extension": ".py",
   "mimetype": "text/x-python",
   "name": "python",
   "nbconvert_exporter": "python",
   "pygments_lexer": "ipython3",
   "version": "3.6.5"
  }
 },
 "nbformat": 4,
 "nbformat_minor": 1
}
